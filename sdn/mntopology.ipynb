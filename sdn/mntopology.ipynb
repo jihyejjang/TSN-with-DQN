{
 "cells": [
  {
   "cell_type": "code",
   "execution_count": null,
   "metadata": {},
   "outputs": [],
   "source": [
    "from mininet.topo import Topo\n",
    "\n",
    "\n",
    "class MyTopo(Topo):\n",
    "\n",
    "    def __init__(self):\n",
    "        \"Create custom loop topo.\"\n",
    "\n",
    "        # Initialize topology\n",
    "        Topo.__init__(self)\n",
    "\n",
    "        # Add hosts and switches\n",
    "        host1 = self.addHost('h1')\n",
    "        host2 = self.addHost('h2')\n",
    "        host3 = self.addHost('h3')\n",
    "        host4 = self.addHost('h4')\n",
    "        host5 = self.addHost('h5')\n",
    "        host6 = self.addHost('h6')\n",
    "        host7 = self.addHost('h7')\n",
    "        host8 = self.addHost('h8')\n",
    "        \n",
    "        switch1 = self.addSwitch(\"s1\")\n",
    "        switch2 = self.addSwitch(\"s2\")\n",
    "        switch3 = self.addSwitch(\"s3\")\n",
    "        switch4 = self.addSwitch(\"s4\")\n",
    "        switch5 = self.addSwitch(\"s5\")\n",
    "        switch6 = self.addSwitch(\"s6\")\n",
    "\n",
    "        # Add links\n",
    "        self.addLink(switch1, host1)\n",
    "        self.addLink(switch1, host2)\n",
    "        self.addLink(switch1, switch3)\n",
    "        self.addLink(switch2, host3)\n",
    "        self.addLink(switch2, host4)\n",
    "        self.addLink(switch2, switch3)\n",
    "        self.addLink(switch3, switch4)\n",
    "        self.addLink(switch4, switch5)\n",
    "        self.addLink(switch5, host5)\n",
    "        self.addLink(switch5, host6)\n",
    "        self.addLink(switch4, switch6)\n",
    "        self.addLink(switch6, host7)\n",
    "        self.addLink(switch6, host8)\n",
    "        \n",
    "topos = {'mytopo': (lambda: MyTopo())}\n"
   ]
  }
 ],
 "metadata": {
  "kernelspec": {
   "display_name": "jhtf-gpu",
   "language": "python",
   "name": ".env"
  },
  "language_info": {
   "codemirror_mode": {
    "name": "ipython",
    "version": 3
   },
   "file_extension": ".py",
   "mimetype": "text/x-python",
   "name": "python",
   "nbconvert_exporter": "python",
   "pygments_lexer": "ipython3",
   "version": "3.8.8"
  }
 },
 "nbformat": 4,
 "nbformat_minor": 5
}
