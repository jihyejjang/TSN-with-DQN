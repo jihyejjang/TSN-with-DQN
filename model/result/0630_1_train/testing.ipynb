{
 "cells": [
  {
   "cell_type": "code",
   "execution_count": 2,
   "metadata": {},
   "outputs": [],
   "source": [
    "import pandas as pd\n",
    "from pandas import DataFrame\n",
    "import numpy as np\n",
    "import os\n",
    "import matplotlib.pyplot as plt"
   ]
  },
  {
   "cell_type": "code",
   "execution_count": 11,
   "metadata": {},
   "outputs": [],
   "source": [
    "df = pd.read_csv('log_0630_train_1.csv')\n",
    "df = df.drop('Unnamed: 0',axis=1)\n",
    "epsilon_ = df['Epsilon'] < 0.99\n",
    "df_ = df[epsilon_].reset_index(drop=True,inplace=False)"
   ]
  },
  {
   "cell_type": "code",
   "execution_count": 12,
   "metadata": {},
   "outputs": [
    {
     "data": {
      "text/html": [
       "<div>\n",
       "<style scoped>\n",
       "    .dataframe tbody tr th:only-of-type {\n",
       "        vertical-align: middle;\n",
       "    }\n",
       "\n",
       "    .dataframe tbody tr th {\n",
       "        vertical-align: top;\n",
       "    }\n",
       "\n",
       "    .dataframe thead th {\n",
       "        text-align: right;\n",
       "    }\n",
       "</style>\n",
       "<table border=\"1\" class=\"dataframe\">\n",
       "  <thead>\n",
       "    <tr style=\"text-align: right;\">\n",
       "      <th></th>\n",
       "      <th>Episode</th>\n",
       "      <th>Time</th>\n",
       "      <th>Final step</th>\n",
       "      <th>Score</th>\n",
       "      <th>Epsilon</th>\n",
       "      <th>Min_loss</th>\n",
       "    </tr>\n",
       "  </thead>\n",
       "  <tbody>\n",
       "    <tr>\n",
       "      <th>0</th>\n",
       "      <td>184</td>\n",
       "      <td>0.200</td>\n",
       "      <td>40</td>\n",
       "      <td>92</td>\n",
       "      <td>0.976274</td>\n",
       "      <td>0.704172</td>\n",
       "    </tr>\n",
       "    <tr>\n",
       "      <th>1</th>\n",
       "      <td>185</td>\n",
       "      <td>0.200</td>\n",
       "      <td>40</td>\n",
       "      <td>94</td>\n",
       "      <td>0.976274</td>\n",
       "      <td>1.793965</td>\n",
       "    </tr>\n",
       "    <tr>\n",
       "      <th>2</th>\n",
       "      <td>186</td>\n",
       "      <td>0.200</td>\n",
       "      <td>40</td>\n",
       "      <td>83</td>\n",
       "      <td>0.976274</td>\n",
       "      <td>0.356284</td>\n",
       "    </tr>\n",
       "    <tr>\n",
       "      <th>3</th>\n",
       "      <td>187</td>\n",
       "      <td>0.200</td>\n",
       "      <td>40</td>\n",
       "      <td>102</td>\n",
       "      <td>0.976274</td>\n",
       "      <td>1.331391</td>\n",
       "    </tr>\n",
       "    <tr>\n",
       "      <th>4</th>\n",
       "      <td>188</td>\n",
       "      <td>0.200</td>\n",
       "      <td>40</td>\n",
       "      <td>80</td>\n",
       "      <td>0.976274</td>\n",
       "      <td>0.647153</td>\n",
       "    </tr>\n",
       "    <tr>\n",
       "      <th>...</th>\n",
       "      <td>...</td>\n",
       "      <td>...</td>\n",
       "      <td>...</td>\n",
       "      <td>...</td>\n",
       "      <td>...</td>\n",
       "      <td>...</td>\n",
       "    </tr>\n",
       "    <tr>\n",
       "      <th>611</th>\n",
       "      <td>795</td>\n",
       "      <td>0.205</td>\n",
       "      <td>41</td>\n",
       "      <td>148</td>\n",
       "      <td>0.010000</td>\n",
       "      <td>0.000255</td>\n",
       "    </tr>\n",
       "    <tr>\n",
       "      <th>612</th>\n",
       "      <td>796</td>\n",
       "      <td>0.205</td>\n",
       "      <td>41</td>\n",
       "      <td>148</td>\n",
       "      <td>0.010000</td>\n",
       "      <td>0.000353</td>\n",
       "    </tr>\n",
       "    <tr>\n",
       "      <th>613</th>\n",
       "      <td>797</td>\n",
       "      <td>0.205</td>\n",
       "      <td>41</td>\n",
       "      <td>144</td>\n",
       "      <td>0.010000</td>\n",
       "      <td>0.000365</td>\n",
       "    </tr>\n",
       "    <tr>\n",
       "      <th>614</th>\n",
       "      <td>798</td>\n",
       "      <td>0.205</td>\n",
       "      <td>41</td>\n",
       "      <td>148</td>\n",
       "      <td>0.010000</td>\n",
       "      <td>0.000384</td>\n",
       "    </tr>\n",
       "    <tr>\n",
       "      <th>615</th>\n",
       "      <td>799</td>\n",
       "      <td>0.205</td>\n",
       "      <td>41</td>\n",
       "      <td>148</td>\n",
       "      <td>0.010000</td>\n",
       "      <td>0.000387</td>\n",
       "    </tr>\n",
       "  </tbody>\n",
       "</table>\n",
       "<p>616 rows × 6 columns</p>\n",
       "</div>"
      ],
      "text/plain": [
       "     Episode   Time  Final step  Score   Epsilon  Min_loss\n",
       "0        184  0.200          40     92  0.976274  0.704172\n",
       "1        185  0.200          40     94  0.976274  1.793965\n",
       "2        186  0.200          40     83  0.976274  0.356284\n",
       "3        187  0.200          40    102  0.976274  1.331391\n",
       "4        188  0.200          40     80  0.976274  0.647153\n",
       "..       ...    ...         ...    ...       ...       ...\n",
       "611      795  0.205          41    148  0.010000  0.000255\n",
       "612      796  0.205          41    148  0.010000  0.000353\n",
       "613      797  0.205          41    144  0.010000  0.000365\n",
       "614      798  0.205          41    148  0.010000  0.000384\n",
       "615      799  0.205          41    148  0.010000  0.000387\n",
       "\n",
       "[616 rows x 6 columns]"
      ]
     },
     "execution_count": 12,
     "metadata": {},
     "output_type": "execute_result"
    }
   ],
   "source": [
    "df_"
   ]
  },
  {
   "cell_type": "code",
   "execution_count": 13,
   "metadata": {},
   "outputs": [],
   "source": [
    "x=range(int(len(df_['Episode'])))\n",
    "y=df_['Epsilon']\n",
    "y2=df_['Score']\n",
    "y3=df_['Min_loss']"
   ]
  },
  {
   "cell_type": "code",
   "execution_count": 14,
   "metadata": {},
   "outputs": [
    {
     "data": {
      "image/png": "[encoded data removed]",
      "text/plain": [
       "<Figure size 432x288 with 3 Axes>"
      ]
     },
     "metadata": {
      "needs_background": "light"
     },
     "output_type": "display_data"
    }
   ],
   "source": [
    "plt.subplot(311)\n",
    "plt.plot(x,y)\n",
    "plt.subplot(312)\n",
    "plt.plot(x,y2)\n",
    "plt.subplot(313)\n",
    "plt.plot(x,y3)\n",
    "plt.show()"
   ]
  },
  {
   "cell_type": "code",
   "execution_count": 39,
   "metadata": {},
   "outputs": [],
   "source": [
    "#!/usr/bin/env python\n",
    "# coding: utf-8\n",
    "\n",
    "# In[10]:\n",
    "\n",
    "\n",
    "import os\n",
    "import tensorflow as tf\n",
    "from tensorflow.keras.models import Sequential, Model\n",
    "from tensorflow.keras.layers import Dense\n",
    "from tensorflow.keras.optimizers import *\n",
    "import numpy as np\n",
    "\n",
    "class DQN: \n",
    "    def __init__(self,queue,cycle): \n",
    "        self.input = queue #agent는 queue 1개를 담당하지만 모든 queue의 state를 고려, 해당 큐에 몇 개의 flow가 대기중인지? or 몇 byte?\n",
    "        self.output = 2**cycle #available action, 2^몇 개의 slot을 한 사이클로 정할것인지(cycle)\n",
    "        self.learning_rate = 0.0001\n",
    "        self.loss_history = []\n",
    "        self.model = self.create_model() #현재 state에 대한 model\n",
    "        self.target_model = self.create_model() #next state에 대한 model\n",
    "\n",
    "    # create the neural network to train the q function \n",
    "    def create_model(self): \n",
    "        model = Sequential()\n",
    "        model.add(Dense(24, input_dim= self.input, activation= 'relu')) \n",
    "        model.add(Dense(48, activation= 'relu'))\n",
    "        model.add(Dense(24, activation= 'relu'))\n",
    "        model.add(Dense(self.output)) #allowed action \n",
    "        model.compile(loss= 'mean_squared_error', optimizer= Adam(lr= self.learning_rate)) #optimizer의 learning rate 주의\n",
    "        return model \n",
    "    \n",
    "    def train(self, x, y, sample_weight=None, epochs=1, verbose=0):  # x is the input to the network and y is the output\n",
    "        loss=[]\n",
    "        history=self.model.fit(x, y, batch_size=len(x), sample_weight=sample_weight, epochs=epochs, verbose=verbose)\n",
    "        loss.append(history.history['loss'][0]) # loss 기록\n",
    "        return min(loss)\n",
    "        \n",
    "    def test(self,weight_file):\n",
    "        self.model.load_weights(weight_file)\n",
    "    \n",
    "    def predict_one(self, state, target=False):\n",
    "        return self.predict(np.array(state).reshape(1,self.input), target=target).flatten()\n",
    "\n",
    "    def predict(self, state, target=False):\n",
    "        if target:  # get prediction from target network\n",
    "            return self.target_model.predict(state)\n",
    "        else:  # get prediction from local network\n",
    "            return self.model.predict(state)\n",
    "    \n",
    "    def update_target_model(self):\n",
    "        self.target_model.set_weights(self.model.get_weights())\n",
    "\n",
    "    # save our model \n",
    "    def save_model(self, filename):\n",
    "        self.model.save(filename)\n",
    "\n"
   ]
  },
  {
   "cell_type": "code",
   "execution_count": null,
   "metadata": {},
   "outputs": [],
   "source": [
    "import os\n",
    "import tensorflow as tf\n",
    "from tensorflow.keras.models import Sequential, Model\n",
    "from tensorflow.keras.layers import Dense\n",
    "from tensorflow.keras.optimizers import *\n",
    "import numpy as np\n"
   ]
  },
  {
   "cell_type": "code",
   "execution_count": 1,
   "metadata": {},
   "outputs": [],
   "source": [
    "import numpy as np\n",
    "from tensorflow import keras\n",
    "\n",
    "ag1_be = keras.models.load_model(\"agent17.900466698629316e-07.h5\")\n",
    "ag2_cc = keras.models.load_model(\"agent27.900466698629316e-07.h5\")\n",
    "ag3_vd = keras.models.load_model(\"agent37.900466698629316e-07.h5\")\n",
    "ag4_ad = keras.models.load_model(\"agent47.900466698629316e-07.h5\")"
   ]
  },
  {
   "cell_type": "code",
   "execution_count": 2,
   "metadata": {},
   "outputs": [],
   "source": [
    "state=np.array([0,0,0,100]).reshape(-1,4)"
   ]
  },
  {
   "cell_type": "code",
   "execution_count": 3,
   "metadata": {},
   "outputs": [],
   "source": [
    "a = format(np.argmax(ag1_be.predict(state)),'0'+str(10)+'b')\n",
    "b = format(np.argmax(ag2_cc.predict(state)),'0'+str(10)+'b')\n",
    "c = format(np.argmax(ag3_vd.predict(state)),'0'+str(10)+'b')\n",
    "d = format(np.argmax(ag4_ad.predict(state)),'0'+str(10)+'b')\n"
   ]
  },
  {
   "cell_type": "code",
   "execution_count": 4,
   "metadata": {},
   "outputs": [
    {
     "name": "stdout",
     "output_type": "stream",
     "text": [
      "0100000001 1111101011 1111011001 1100011100\n"
     ]
    }
   ],
   "source": [
    "print (a  , b  , c  , d )"
   ]
  },
  {
   "cell_type": "code",
   "execution_count": 5,
   "metadata": {},
   "outputs": [
    {
     "data": {
      "text/plain": [
       "['0100000001', '1111101011', '1111011001', '1100011100']"
      ]
     },
     "execution_count": 5,
     "metadata": {},
     "output_type": "execute_result"
    }
   ],
   "source": [
    "gcl=[a,b,c,d]\n",
    "gcl"
   ]
  }
 ],
 "metadata": {
  "kernelspec": {
   "display_name": "jhtf-gpu",
   "language": "python",
   "name": ".env"
  },
  "language_info": {
   "codemirror_mode": {
    "name": "ipython",
    "version": 3
   },
   "file_extension": ".py",
   "mimetype": "text/x-python",
   "name": "python",
   "nbconvert_exporter": "python",
   "pygments_lexer": "ipython3",
   "version": "3.8.8"
  }
 },
 "nbformat": 4,
 "nbformat_minor": 4
}
