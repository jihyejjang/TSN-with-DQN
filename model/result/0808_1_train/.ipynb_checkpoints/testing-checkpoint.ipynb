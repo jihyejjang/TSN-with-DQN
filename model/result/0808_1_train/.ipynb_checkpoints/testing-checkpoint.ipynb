{
 "cells": [
  {
   "cell_type": "code",
   "execution_count": 2,
   "metadata": {},
   "outputs": [],
   "source": [
    "import pandas as pd\n",
    "from pandas import DataFrame\n",
    "import numpy as np\n",
    "import os\n",
    "import matplotlib.pyplot as plt"
   ]
  },
  {
   "cell_type": "code",
   "execution_count": 3,
   "metadata": {},
   "outputs": [],
   "source": [
    "df = pd.read_csv('log_0808_train_1.csv')\n",
    "df = df.drop('Unnamed: 0',axis=1)\n",
    "epsilon_ = df['Epsilon'] < 0.5\n",
    "df_ = df[epsilon_].reset_index(drop=True,inplace=False)"
   ]
  },
  {
   "cell_type": "code",
   "execution_count": 4,
   "metadata": {},
   "outputs": [
    {
     "data": {
      "text/html": [
       "<div>\n",
       "<style scoped>\n",
       "    .dataframe tbody tr th:only-of-type {\n",
       "        vertical-align: middle;\n",
       "    }\n",
       "\n",
       "    .dataframe tbody tr th {\n",
       "        vertical-align: top;\n",
       "    }\n",
       "\n",
       "    .dataframe thead th {\n",
       "        text-align: right;\n",
       "    }\n",
       "</style>\n",
       "<table border=\"1\" class=\"dataframe\">\n",
       "  <thead>\n",
       "    <tr style=\"text-align: right;\">\n",
       "      <th></th>\n",
       "      <th>Episode</th>\n",
       "      <th>Time</th>\n",
       "      <th>Final step</th>\n",
       "      <th>Score</th>\n",
       "      <th>Epsilon</th>\n",
       "      <th>Min_loss</th>\n",
       "      <th>avg_loss</th>\n",
       "    </tr>\n",
       "  </thead>\n",
       "  <tbody>\n",
       "    <tr>\n",
       "      <th>0</th>\n",
       "      <td>311</td>\n",
       "      <td>0.400</td>\n",
       "      <td>80</td>\n",
       "      <td>4787</td>\n",
       "      <td>0.486577</td>\n",
       "      <td>NaN</td>\n",
       "      <td>0.000487</td>\n",
       "    </tr>\n",
       "    <tr>\n",
       "      <th>1</th>\n",
       "      <td>312</td>\n",
       "      <td>0.400</td>\n",
       "      <td>80</td>\n",
       "      <td>4994</td>\n",
       "      <td>0.486577</td>\n",
       "      <td>NaN</td>\n",
       "      <td>0.000416</td>\n",
       "    </tr>\n",
       "    <tr>\n",
       "      <th>2</th>\n",
       "      <td>313</td>\n",
       "      <td>0.400</td>\n",
       "      <td>80</td>\n",
       "      <td>4637</td>\n",
       "      <td>0.486577</td>\n",
       "      <td>NaN</td>\n",
       "      <td>0.000402</td>\n",
       "    </tr>\n",
       "    <tr>\n",
       "      <th>3</th>\n",
       "      <td>314</td>\n",
       "      <td>0.400</td>\n",
       "      <td>80</td>\n",
       "      <td>4695</td>\n",
       "      <td>0.486577</td>\n",
       "      <td>NaN</td>\n",
       "      <td>0.000457</td>\n",
       "    </tr>\n",
       "    <tr>\n",
       "      <th>4</th>\n",
       "      <td>315</td>\n",
       "      <td>0.400</td>\n",
       "      <td>80</td>\n",
       "      <td>4883</td>\n",
       "      <td>0.486577</td>\n",
       "      <td>NaN</td>\n",
       "      <td>0.000369</td>\n",
       "    </tr>\n",
       "    <tr>\n",
       "      <th>...</th>\n",
       "      <td>...</td>\n",
       "      <td>...</td>\n",
       "      <td>...</td>\n",
       "      <td>...</td>\n",
       "      <td>...</td>\n",
       "      <td>...</td>\n",
       "      <td>...</td>\n",
       "    </tr>\n",
       "    <tr>\n",
       "      <th>684</th>\n",
       "      <td>995</td>\n",
       "      <td>0.405</td>\n",
       "      <td>81</td>\n",
       "      <td>4121</td>\n",
       "      <td>0.010000</td>\n",
       "      <td>NaN</td>\n",
       "      <td>0.000007</td>\n",
       "    </tr>\n",
       "    <tr>\n",
       "      <th>685</th>\n",
       "      <td>996</td>\n",
       "      <td>0.405</td>\n",
       "      <td>81</td>\n",
       "      <td>4089</td>\n",
       "      <td>0.010000</td>\n",
       "      <td>NaN</td>\n",
       "      <td>0.000006</td>\n",
       "    </tr>\n",
       "    <tr>\n",
       "      <th>686</th>\n",
       "      <td>997</td>\n",
       "      <td>0.405</td>\n",
       "      <td>81</td>\n",
       "      <td>4177</td>\n",
       "      <td>0.010000</td>\n",
       "      <td>NaN</td>\n",
       "      <td>0.000007</td>\n",
       "    </tr>\n",
       "    <tr>\n",
       "      <th>687</th>\n",
       "      <td>998</td>\n",
       "      <td>0.405</td>\n",
       "      <td>81</td>\n",
       "      <td>4121</td>\n",
       "      <td>0.010000</td>\n",
       "      <td>NaN</td>\n",
       "      <td>0.000007</td>\n",
       "    </tr>\n",
       "    <tr>\n",
       "      <th>688</th>\n",
       "      <td>999</td>\n",
       "      <td>0.405</td>\n",
       "      <td>81</td>\n",
       "      <td>4121</td>\n",
       "      <td>0.010000</td>\n",
       "      <td>NaN</td>\n",
       "      <td>0.000007</td>\n",
       "    </tr>\n",
       "  </tbody>\n",
       "</table>\n",
       "<p>689 rows × 7 columns</p>\n",
       "</div>"
      ],
      "text/plain": [
       "     Episode   Time  Final step  Score   Epsilon  Min_loss  avg_loss\n",
       "0        311  0.400          80   4787  0.486577       NaN  0.000487\n",
       "1        312  0.400          80   4994  0.486577       NaN  0.000416\n",
       "2        313  0.400          80   4637  0.486577       NaN  0.000402\n",
       "3        314  0.400          80   4695  0.486577       NaN  0.000457\n",
       "4        315  0.400          80   4883  0.486577       NaN  0.000369\n",
       "..       ...    ...         ...    ...       ...       ...       ...\n",
       "684      995  0.405          81   4121  0.010000       NaN  0.000007\n",
       "685      996  0.405          81   4089  0.010000       NaN  0.000006\n",
       "686      997  0.405          81   4177  0.010000       NaN  0.000007\n",
       "687      998  0.405          81   4121  0.010000       NaN  0.000007\n",
       "688      999  0.405          81   4121  0.010000       NaN  0.000007\n",
       "\n",
       "[689 rows x 7 columns]"
      ]
     },
     "execution_count": 4,
     "metadata": {},
     "output_type": "execute_result"
    }
   ],
   "source": [
    "df_"
   ]
  },
  {
   "cell_type": "code",
   "execution_count": 7,
   "metadata": {},
   "outputs": [],
   "source": [
    "x=range(int(len(df_['Episode'])))\n",
    "y=df_['Epsilon']\n",
    "y2=df_['Score']\n",
    "y3=df_['avg_loss']"
   ]
  },
  {
   "cell_type": "code",
   "execution_count": 8,
   "metadata": {},
   "outputs": [
    {
     "data": {
      "image/png": "[encoded data removed]",
      "text/plain": [
       "<Figure size 432x288 with 3 Axes>"
      ]
     },
     "metadata": {
      "needs_background": "light"
     },
     "output_type": "display_data"
    }
   ],
   "source": [
    "plt.subplot(311)\n",
    "plt.plot(x,y)\n",
    "plt.subplot(312)\n",
    "plt.plot(x,y2)\n",
    "plt.subplot(313)\n",
    "plt.plot(x,y3)\n",
    "plt.show()"
   ]
  },
  {
   "cell_type": "code",
   "execution_count": 39,
   "metadata": {},
   "outputs": [],
   "source": [
    "#!/usr/bin/env python\n",
    "# coding: utf-8\n",
    "\n",
    "# In[10]:\n",
    "\n",
    "\n",
    "import os\n",
    "import tensorflow as tf\n",
    "from tensorflow.keras.models import Sequential, Model\n",
    "from tensorflow.keras.layers import Dense\n",
    "from tensorflow.keras.optimizers import *\n",
    "import numpy as np\n",
    "\n",
    "class DQN: \n",
    "    def __init__(self,queue,cycle): \n",
    "        self.input = queue #agent는 queue 1개를 담당하지만 모든 queue의 state를 고려, 해당 큐에 몇 개의 flow가 대기중인지? or 몇 byte?\n",
    "        self.output = 2**cycle #available action, 2^몇 개의 slot을 한 사이클로 정할것인지(cycle)\n",
    "        self.learning_rate = 0.0001\n",
    "        self.loss_history = []\n",
    "        self.model = self.create_model() #현재 state에 대한 model\n",
    "        self.target_model = self.create_model() #next state에 대한 model\n",
    "\n",
    "    # create the neural network to train the q function \n",
    "    def create_model(self): \n",
    "        model = Sequential()\n",
    "        model.add(Dense(24, input_dim= self.input, activation= 'relu')) \n",
    "        model.add(Dense(48, activation= 'relu'))\n",
    "        model.add(Dense(24, activation= 'relu'))\n",
    "        model.add(Dense(self.output)) #allowed action \n",
    "        model.compile(loss= 'mean_squared_error', optimizer= Adam(lr= self.learning_rate)) #optimizer의 learning rate 주의\n",
    "        return model \n",
    "    \n",
    "    def train(self, x, y, sample_weight=None, epochs=1, verbose=0):  # x is the input to the network and y is the output\n",
    "        loss=[]\n",
    "        history=self.model.fit(x, y, batch_size=len(x), sample_weight=sample_weight, epochs=epochs, verbose=verbose)\n",
    "        loss.append(history.history['loss'][0]) # loss 기록\n",
    "        return min(loss)\n",
    "        \n",
    "    def test(self,weight_file):\n",
    "        self.model.load_weights(weight_file)\n",
    "    \n",
    "    def predict_one(self, state, target=False):\n",
    "        return self.predict(np.array(state).reshape(1,self.input), target=target).flatten()\n",
    "\n",
    "    def predict(self, state, target=False):\n",
    "        if target:  # get prediction from target network\n",
    "            return self.target_model.predict(state)\n",
    "        else:  # get prediction from local network\n",
    "            return self.model.predict(state)\n",
    "    \n",
    "    def update_target_model(self):\n",
    "        self.target_model.set_weights(self.model.get_weights())\n",
    "\n",
    "    # save our model \n",
    "    def save_model(self, filename):\n",
    "        self.model.save(filename)\n",
    "\n"
   ]
  },
  {
   "cell_type": "code",
   "execution_count": 67,
   "metadata": {},
   "outputs": [],
   "source": [
    "from tensorflow import keras\n",
    "\n",
    "ag1_be = keras.models.load_model(\"agent17.900466698629316e-07.h5\")\n",
    "ag2_cc = keras.models.load_model(\"agent27.900466698629316e-07.h5\")\n",
    "ag3_vd = keras.models.load_model(\"agent37.900466698629316e-07.h5\")\n",
    "ag4_ad = keras.models.load_model(\"agent47.900466698629316e-07.h5\")"
   ]
  },
  {
   "cell_type": "code",
   "execution_count": 68,
   "metadata": {},
   "outputs": [],
   "source": [
    "state=np.array([0,0,0,100]).reshape(-1,4)"
   ]
  },
  {
   "cell_type": "code",
   "execution_count": 69,
   "metadata": {},
   "outputs": [
    {
     "name": "stdout",
     "output_type": "stream",
     "text": [
      "WARNING:tensorflow:11 out of the last 11 calls to <function Model.make_predict_function.<locals>.predict_function at 0x14243ba60> triggered tf.function retracing. Tracing is expensive and the excessive number of tracings could be due to (1) creating @tf.function repeatedly in a loop, (2) passing tensors with different shapes, (3) passing Python objects instead of tensors. For (1), please define your @tf.function outside of the loop. For (2), @tf.function has experimental_relax_shapes=True option that relaxes argument shapes that can avoid unnecessary retracing. For (3), please refer to https://www.tensorflow.org/guide/function#controlling_retracing and https://www.tensorflow.org/api_docs/python/tf/function for  more details.\n",
      "WARNING:tensorflow:11 out of the last 11 calls to <function Model.make_predict_function.<locals>.predict_function at 0x1451c1dc0> triggered tf.function retracing. Tracing is expensive and the excessive number of tracings could be due to (1) creating @tf.function repeatedly in a loop, (2) passing tensors with different shapes, (3) passing Python objects instead of tensors. For (1), please define your @tf.function outside of the loop. For (2), @tf.function has experimental_relax_shapes=True option that relaxes argument shapes that can avoid unnecessary retracing. For (3), please refer to https://www.tensorflow.org/guide/function#controlling_retracing and https://www.tensorflow.org/api_docs/python/tf/function for  more details.\n",
      "WARNING:tensorflow:11 out of the last 11 calls to <function Model.make_predict_function.<locals>.predict_function at 0x16e142e50> triggered tf.function retracing. Tracing is expensive and the excessive number of tracings could be due to (1) creating @tf.function repeatedly in a loop, (2) passing tensors with different shapes, (3) passing Python objects instead of tensors. For (1), please define your @tf.function outside of the loop. For (2), @tf.function has experimental_relax_shapes=True option that relaxes argument shapes that can avoid unnecessary retracing. For (3), please refer to https://www.tensorflow.org/guide/function#controlling_retracing and https://www.tensorflow.org/api_docs/python/tf/function for  more details.\n",
      "WARNING:tensorflow:11 out of the last 11 calls to <function Model.make_predict_function.<locals>.predict_function at 0x16e142f70> triggered tf.function retracing. Tracing is expensive and the excessive number of tracings could be due to (1) creating @tf.function repeatedly in a loop, (2) passing tensors with different shapes, (3) passing Python objects instead of tensors. For (1), please define your @tf.function outside of the loop. For (2), @tf.function has experimental_relax_shapes=True option that relaxes argument shapes that can avoid unnecessary retracing. For (3), please refer to https://www.tensorflow.org/guide/function#controlling_retracing and https://www.tensorflow.org/api_docs/python/tf/function for  more details.\n"
     ]
    }
   ],
   "source": [
    "a = format(np.argmax(ag1_be.predict(state)),'0'+str(10)+'b')\n",
    "b = format(np.argmax(ag2_cc.predict(state)),'0'+str(10)+'b')\n",
    "c = format(np.argmax(ag3_vd.predict(state)),'0'+str(10)+'b')\n",
    "d = format(np.argmax(ag4_ad.predict(state)),'0'+str(10)+'b')\n"
   ]
  },
  {
   "cell_type": "code",
   "execution_count": 70,
   "metadata": {},
   "outputs": [
    {
     "name": "stdout",
     "output_type": "stream",
     "text": [
      "0100000001 1111101011 1111011001 1100011100\n"
     ]
    }
   ],
   "source": [
    "print (a  , b  , c  , d )"
   ]
  },
  {
   "cell_type": "code",
   "execution_count": null,
   "metadata": {},
   "outputs": [],
   "source": []
  }
 ],
 "metadata": {
  "kernelspec": {
   "display_name": "jhtf-gpu",
   "language": "python",
   "name": ".env"
  },
  "language_info": {
   "codemirror_mode": {
    "name": "ipython",
    "version": 3
   },
   "file_extension": ".py",
   "mimetype": "text/x-python",
   "name": "python",
   "nbconvert_exporter": "python",
   "pygments_lexer": "ipython3",
   "version": "3.8.8"
  }
 },
 "nbformat": 4,
 "nbformat_minor": 4
}
