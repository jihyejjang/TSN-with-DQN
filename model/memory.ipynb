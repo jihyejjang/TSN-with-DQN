{
 "cells": [
  {
   "cell_type": "code",
   "execution_count": null,
   "metadata": {},
   "outputs": [],
   "source": [
    "import random\n",
    "from collections import deque\n",
    "\n",
    "\n",
    "class Memory:\n",
    "\n",
    "    def __init__(self):\n",
    "        self.memory = deque(maxlen=self.capacity)\n",
    "\n",
    "    def remember(self, samples):\n",
    "        self.memory.append(samples)\n",
    "\n",
    "    def sample(self, n):\n",
    "        sample_batch = random.sample(self.memory, n)\n",
    "        return sample_batch"
   ]
  }
 ],
 "metadata": {
  "kernelspec": {
   "display_name": "Python 3",
   "language": "python",
   "name": "python3"
  },
  "language_info": {
   "codemirror_mode": {
    "name": "ipython",
    "version": 3
   },
   "file_extension": ".py",
   "mimetype": "text/x-python",
   "name": "python",
   "nbconvert_exporter": "python",
   "pygments_lexer": "ipython3",
   "version": "3.8.5"
  }
 },
 "nbformat": 4,
 "nbformat_minor": 4
}
