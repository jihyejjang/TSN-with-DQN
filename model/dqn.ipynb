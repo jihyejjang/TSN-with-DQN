{
 "cells": [
  {
   "cell_type": "code",
   "execution_count": 10,
   "metadata": {},
   "outputs": [],
   "source": [
    "import os\n",
    "import tensorflow as tf\n",
    "from tensorflow.keras.models import Sequential, Model\n",
    "from tensorflow.keras.layers import Dense\n",
    "from tensorflow.keras.optimizers import *\n",
    "\n",
    "class DQN: \n",
    "    def __init__(self,queue,cycle): \n",
    "        self.input = queue \n",
    "        self.output = 2**cycle \n",
    "        self.learning_rate = 0.0001\n",
    "        self.loss_history = []\n",
    "        self.model = self.create_model() #현재 state에 대한 model\n",
    "        self.target_model = self.create_model() #next state에 대한 model\n",
    "\n",
    "    # create the neural network to train the q function \n",
    "    def create_model(self): \n",
    "        model = Sequential()\n",
    "        model.add(Dense(24, input_dim= self.input, activation= 'relu')) \n",
    "        model.add(Dense(48, activation= 'relu'))\n",
    "        model.add(Dense(24, activation= 'relu'))\n",
    "        model.add(Dense(self.output)) #allowed action \n",
    "        model.compile(loss= 'mean_squared_error', optimizer= Adam(lr= self.learning_rate)) #optimizer의 learning rate 주의\n",
    "        return model \n",
    "\n",
    "    def train(self, x, y, sample_weight=None, epochs=1, verbose=0):  # x is the input to the network and y is the output\n",
    "        history=self.model.fit(x, y, batch_size=len(x), sample_weight=sample_weight, epochs=epochs, verbose=verbose)\n",
    "        self.loss_history.append(history.history['loss'][0]) # loss 기록\n",
    "        \n",
    "    def test(self,weight_file):\n",
    "        self.model.load_weights(weight_file)\n",
    "    \n",
    "    def predict_one(self, state, target=False):\n",
    "        return self.predict(state.reshape(1,self.state_size), target=target).flatten()\n",
    "\n",
    "    def predict(self, state, target=False):\n",
    "        if target:  # get prediction from tar get network\n",
    "            return self.target_model.predict(state)\n",
    "        else:  # get prediction from local network\n",
    "            return self.model.predict(state)\n",
    "    \n",
    "    def update_target_model(self):\n",
    "        self.target_model.set_weights(self.model.get_weights())\n",
    "\n",
    "    # save our model \n",
    "    def save_model(self, filename):\n",
    "        self.model.save(filename)\n",
    "\n",
    "\n",
    "\n",
    "        "
   ]
  }
 ],
 "metadata": {
  "kernelspec": {
   "display_name": "jhtf-gpu",
   "language": "python",
   "name": ".env"
  },
  "language_info": {
   "codemirror_mode": {
    "name": "ipython",
    "version": 3
   },
   "file_extension": ".py",
   "mimetype": "text/x-python",
   "name": "python",
   "nbconvert_exporter": "python",
   "pygments_lexer": "ipython3",
   "version": "3.8.8"
  }
 },
 "nbformat": 4,
 "nbformat_minor": 5
}
